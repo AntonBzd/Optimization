{
  "cells": [
    {
      "cell_type": "code",
      "execution_count": 2,
      "metadata": {
        "id": "Wqfxhm4nXoVo"
      },
      "outputs": [],
      "source": [
        "import numpy as np\n",
        "import cvxpy as cp\n",
        "import matplotlib.pyplot as plt\n",
        "import time\n",
        "\n",
        "import warnings\n",
        "warnings.filterwarnings('ignore')\n"
      ]
    },
    {
      "cell_type": "markdown",
      "metadata": {
        "id": "kUU0hDYTemls"
      },
      "source": [
        "# Define Functions"
      ]
    },
    {
      "cell_type": "code",
      "execution_count": 3,
      "metadata": {
        "id": "7Nbg0wz0ZwBv"
      },
      "outputs": [],
      "source": [
        "def linear_solver(C, s, d):\n",
        "\n",
        "    start_time = time.time()  # Start\n",
        "\n",
        "    # Define variables\n",
        "    N = [len(s), len(d)]\n",
        "    P = cp.Variable((N[0], N[1]), nonneg=True)\n",
        "    # Objective\n",
        "    objective = cp.Minimize(cp.sum(cp.multiply(P, C)))\n",
        "    # Constraints\n",
        "    constraints = [cp.matmul(P, np.ones(N[1])) == s, cp.matmul(P.T, np.ones(N[0])) == d]\n",
        "    # Solve\n",
        "    prob = cp.Problem(objective, constraints)\n",
        "    minimal_cost = prob.solve()\n",
        "\n",
        "    end_time = time.time()  # End\n",
        "    execution_time = end_time - start_time\n",
        "\n",
        "    return P.value, minimal_cost, execution_time\n",
        "\n",
        "\n"
      ]
    },
    {
      "cell_type": "code",
      "execution_count": 20,
      "metadata": {
        "id": "AkGjV39BcfJP"
      },
      "outputs": [],
      "source": [
        "def Sinkhorn_solver(C, s, d, epsilon=0.1, accuracy=0.01):\n",
        "    start_time = time.time()  # Start\n",
        "\n",
        "    # Gibbs Kernel\n",
        "    K = np.exp(-C / epsilon)\n",
        "\n",
        "    b = np.ones(len(d))\n",
        "    a = np.ones(len(s))\n",
        "    residuals = []\n",
        "    s_flat = s.flatten()\n",
        "    d_flat = d.flatten()\n",
        "\n",
        "    # Sinkhorn algo iterations\n",
        "    while True:\n",
        "        a_prev, b_prev = a.copy(), b.copy()  # For convergence check\n",
        "        a = s_flat / (K @ b)\n",
        "        b = d_flat / (K.T @ a)\n",
        "        P = np.diag(a) @ K @ np.diag(b)\n",
        "        residual = np.linalg.norm(P.sum(axis=1) - s_flat)  # Residual\n",
        "        residuals.append(residual)\n",
        "\n",
        "        # Break if accuracy is achieved or negligible change in the convergence\n",
        "        if residual < accuracy or np.allclose(a, a_prev) and np.allclose(b, b_prev):\n",
        "            break\n",
        "\n",
        "    # Calculate the minimal cost of transport\n",
        "    minimal_cost = np.sum(P * C)\n",
        "\n",
        "    end_time = time.time()  # End\n",
        "    execution_time = end_time - start_time\n",
        "\n",
        "    return P, minimal_cost, execution_time\n"
      ]
    },
    {
      "cell_type": "code",
      "execution_count": 5,
      "metadata": {
        "id": "SavW-gO1VmV0"
      },
      "outputs": [],
      "source": [
        "def generate_random_instance(n):\n",
        "\n",
        "    x = np.random.rand(2,n)-.5\n",
        "    theta = 2*np.pi*np.random.rand(1,n)\n",
        "    r = .8 + .2*np.random.rand(1,n)\n",
        "    y = np.vstack((np.cos(theta)*r,np.sin(theta)*r))\n",
        "\n",
        "    x2 = np.sum(x**2,0)\n",
        "    y2 = np.sum(y**2,0)\n",
        "    C = np.tile(y2,(n,1)) + np.tile(x2[:,np.newaxis],(1,n)) - 2*np.dot(np.transpose(x),y)\n",
        "\n",
        "    normalize = lambda a: a/np.sum(a)\n",
        "    s = normalize(np.random.rand(n))\n",
        "    d = normalize(np.random.rand(n))\n",
        "\n",
        "    return C, s, d"
      ]
    },
    {
      "cell_type": "markdown",
      "metadata": {
        "id": "KaT0Oz1Her-S"
      },
      "source": [
        "# First Step"
      ]
    },
    {
      "cell_type": "code",
      "execution_count": 6,
      "metadata": {
        "colab": {
          "base_uri": "https://localhost:8080/"
        },
        "id": "Poc6wER-Z6HH",
        "outputId": "789bd793-5cd4-4bdf-ec7c-84e3e3187d23"
      },
      "outputs": [
        {
          "name": "stdout",
          "output_type": "stream",
          "text": [
            "Minimum cost: 0.4091807088024621\n",
            "Execution time: 0.027491331100463867 seconds\n"
          ]
        }
      ],
      "source": [
        "# Standard Linear Program\n",
        "\n",
        "C, s, d = generate_random_instance(30)\n",
        "\n",
        "P_value, min_cost, exec_time = linear_solver(C, s, d)\n",
        "#print(\"Optimal transport plan:\\n\", P_value)\n",
        "print(\"Minimum cost:\", min_cost)\n",
        "print(\"Execution time:\", exec_time, \"seconds\")"
      ]
    },
    {
      "cell_type": "code",
      "execution_count": 7,
      "metadata": {
        "colab": {
          "base_uri": "https://localhost:8080/"
        },
        "id": "Qz-8jhjfchWT",
        "outputId": "442231d4-5bee-4612-d54c-16724f7dbc4c"
      },
      "outputs": [
        {
          "name": "stdout",
          "output_type": "stream",
          "text": [
            "Minimum cost: 0.3961721376721963\n",
            "Execution time: 0.003002643585205078 seconds\n"
          ]
        }
      ],
      "source": [
        "# Entropic regularizer with SinkHorn Algorithm\n",
        "\n",
        "C, s, d = generate_random_instance(30)\n",
        "\n",
        "P_value, min_cost, exec_time = Sinkhorn_solver(C, s, d)\n",
        "\n",
        "#print(\"Optimal transport plan:\\n\", P_value)\n",
        "print(\"Minimum cost:\", min_cost)\n",
        "print(\"Execution time:\", exec_time, \"seconds\")"
      ]
    },
    {
      "cell_type": "markdown",
      "metadata": {},
      "source": [
        "# Second Step"
      ]
    },
    {
      "cell_type": "code",
      "execution_count": 21,
      "metadata": {
        "id": "cbKPwvPGXaW5"
      },
      "outputs": [
        {
          "ename": "MemoryError",
          "evalue": "Unable to allocate 18.6 GiB for an array with shape (50000, 50000) and data type float64",
          "output_type": "error",
          "traceback": [
            "\u001b[1;31m---------------------------------------------------------------------------\u001b[0m",
            "\u001b[1;31mMemoryError\u001b[0m                               Traceback (most recent call last)",
            "Cell \u001b[1;32mIn[21], line 11\u001b[0m\n\u001b[0;32m      6\u001b[0m sinkhorn_costs \u001b[38;5;241m=\u001b[39m []\n\u001b[0;32m      9\u001b[0m \u001b[38;5;28;01mfor\u001b[39;00m i \u001b[38;5;129;01min\u001b[39;00m sizes :\n\u001b[1;32m---> 11\u001b[0m   C, s, d \u001b[38;5;241m=\u001b[39m \u001b[43mgenerate_random_instance\u001b[49m\u001b[43m(\u001b[49m\u001b[43mi\u001b[49m\u001b[43m)\u001b[49m\n\u001b[0;32m     13\u001b[0m   \u001b[38;5;66;03m#linear_values = linear_solver(C, s, d)\u001b[39;00m\n\u001b[0;32m     14\u001b[0m   \u001b[38;5;66;03m#linear_runtimes.append(linear_values[2])\u001b[39;00m\n\u001b[0;32m     15\u001b[0m   \u001b[38;5;66;03m#linear_costs.append(linear_values[1])\u001b[39;00m\n\u001b[0;32m     17\u001b[0m   sinkhorn_value \u001b[38;5;241m=\u001b[39m Sinkhorn_solver(C, s, d)\n",
            "Cell \u001b[1;32mIn[5], line 10\u001b[0m, in \u001b[0;36mgenerate_random_instance\u001b[1;34m(n)\u001b[0m\n\u001b[0;32m      8\u001b[0m x2 \u001b[38;5;241m=\u001b[39m np\u001b[38;5;241m.\u001b[39msum(x\u001b[38;5;241m*\u001b[39m\u001b[38;5;241m*\u001b[39m\u001b[38;5;241m2\u001b[39m,\u001b[38;5;241m0\u001b[39m)\n\u001b[0;32m      9\u001b[0m y2 \u001b[38;5;241m=\u001b[39m np\u001b[38;5;241m.\u001b[39msum(y\u001b[38;5;241m*\u001b[39m\u001b[38;5;241m*\u001b[39m\u001b[38;5;241m2\u001b[39m,\u001b[38;5;241m0\u001b[39m)\n\u001b[1;32m---> 10\u001b[0m C \u001b[38;5;241m=\u001b[39m \u001b[43mnp\u001b[49m\u001b[38;5;241;43m.\u001b[39;49m\u001b[43mtile\u001b[49m\u001b[43m(\u001b[49m\u001b[43my2\u001b[49m\u001b[43m,\u001b[49m\u001b[43m(\u001b[49m\u001b[43mn\u001b[49m\u001b[43m,\u001b[49m\u001b[38;5;241;43m1\u001b[39;49m\u001b[43m)\u001b[49m\u001b[43m)\u001b[49m \u001b[38;5;241m+\u001b[39m np\u001b[38;5;241m.\u001b[39mtile(x2[:,np\u001b[38;5;241m.\u001b[39mnewaxis],(\u001b[38;5;241m1\u001b[39m,n)) \u001b[38;5;241m-\u001b[39m \u001b[38;5;241m2\u001b[39m\u001b[38;5;241m*\u001b[39mnp\u001b[38;5;241m.\u001b[39mdot(np\u001b[38;5;241m.\u001b[39mtranspose(x),y)\n\u001b[0;32m     12\u001b[0m normalize \u001b[38;5;241m=\u001b[39m \u001b[38;5;28;01mlambda\u001b[39;00m a: a\u001b[38;5;241m/\u001b[39mnp\u001b[38;5;241m.\u001b[39msum(a)\n\u001b[0;32m     13\u001b[0m s \u001b[38;5;241m=\u001b[39m normalize(np\u001b[38;5;241m.\u001b[39mrandom\u001b[38;5;241m.\u001b[39mrand(n))\n",
            "File \u001b[1;32m<__array_function__ internals>:200\u001b[0m, in \u001b[0;36mtile\u001b[1;34m(*args, **kwargs)\u001b[0m\n",
            "File \u001b[1;32mc:\\Users\\33761\\AppData\\Local\\Programs\\Python\\Python311\\Lib\\site-packages\\numpy\\lib\\shape_base.py:1278\u001b[0m, in \u001b[0;36mtile\u001b[1;34m(A, reps)\u001b[0m\n\u001b[0;32m   1276\u001b[0m     \u001b[38;5;28;01mfor\u001b[39;00m dim_in, nrep \u001b[38;5;129;01min\u001b[39;00m \u001b[38;5;28mzip\u001b[39m(c\u001b[38;5;241m.\u001b[39mshape, tup):\n\u001b[0;32m   1277\u001b[0m         \u001b[38;5;28;01mif\u001b[39;00m nrep \u001b[38;5;241m!=\u001b[39m \u001b[38;5;241m1\u001b[39m:\n\u001b[1;32m-> 1278\u001b[0m             c \u001b[38;5;241m=\u001b[39m \u001b[43mc\u001b[49m\u001b[38;5;241;43m.\u001b[39;49m\u001b[43mreshape\u001b[49m\u001b[43m(\u001b[49m\u001b[38;5;241;43m-\u001b[39;49m\u001b[38;5;241;43m1\u001b[39;49m\u001b[43m,\u001b[49m\u001b[43m \u001b[49m\u001b[43mn\u001b[49m\u001b[43m)\u001b[49m\u001b[38;5;241;43m.\u001b[39;49m\u001b[43mrepeat\u001b[49m\u001b[43m(\u001b[49m\u001b[43mnrep\u001b[49m\u001b[43m,\u001b[49m\u001b[43m \u001b[49m\u001b[38;5;241;43m0\u001b[39;49m\u001b[43m)\u001b[49m\n\u001b[0;32m   1279\u001b[0m         n \u001b[38;5;241m/\u001b[39m\u001b[38;5;241m/\u001b[39m\u001b[38;5;241m=\u001b[39m dim_in\n\u001b[0;32m   1280\u001b[0m \u001b[38;5;28;01mreturn\u001b[39;00m c\u001b[38;5;241m.\u001b[39mreshape(shape_out)\n",
            "\u001b[1;31mMemoryError\u001b[0m: Unable to allocate 18.6 GiB for an array with shape (50000, 50000) and data type float64"
          ]
        }
      ],
      "source": [
        "# Compare runtime for both method\n",
        "sizes = [10, 50, 100, 500, 1000 , 5000, 10000, 50000, 100000]\n",
        "linear_runtimes = []\n",
        "sinkhorn_runtimes = []\n",
        "linear_costs = []\n",
        "sinkhorn_costs = []\n",
        "\n",
        "\n",
        "for i in sizes :\n",
        "\n",
        "  C, s, d = generate_random_instance(i)\n",
        "\n",
        "  #linear_values = linear_solver(C, s, d)\n",
        "  #linear_runtimes.append(linear_values[2])\n",
        "  #linear_costs.append(linear_values[1])\n",
        "\n",
        "  sinkhorn_value = Sinkhorn_solver(C, s, d)\n",
        "  sinkhorn_runtimes.append(sinkhorn_value[2])\n",
        "  sinkhorn_costs.append(sinkhorn_value[1])\n",
        "\n",
        "  \n",
        "\n",
        "\n",
        "plt.figure(figsize=(10, 6))\n",
        "for i, size in enumerate(sizes):\n",
        "    #plt.text(size, linear_runtimes[i], f'Min Cost : {linear_costs[i]:.2f}', ha='right', va='bottom')\n",
        "    plt.text(size, sinkhorn_runtimes[i], f'Min Cost :{sinkhorn_costs[i]:.2f}', ha='left', va='bottom')\n",
        "\n",
        "\n",
        "#plt.plot(sizes, linear_runtimes, label='Linear Programming', marker='o')\n",
        "plt.plot(sizes, sinkhorn_runtimes, label='Sinkhorn Algorithm', marker='x')\n",
        "plt.yscale('log')\n",
        "plt.xlabel('Problem Size (n)')\n",
        "plt.ylabel('Runtime (seconds)')\n",
        "plt.title('Runtime Comparison of Optimal Transport Solvers')\n",
        "plt.legend()\n",
        "plt.grid(True)\n",
        "plt.show()\n"
      ]
    }
  ],
  "metadata": {
    "colab": {
      "provenance": []
    },
    "kernelspec": {
      "display_name": "Python 3",
      "name": "python3"
    },
    "language_info": {
      "codemirror_mode": {
        "name": "ipython",
        "version": 3
      },
      "file_extension": ".py",
      "mimetype": "text/x-python",
      "name": "python",
      "nbconvert_exporter": "python",
      "pygments_lexer": "ipython3",
      "version": "3.11.4"
    }
  },
  "nbformat": 4,
  "nbformat_minor": 0
}
